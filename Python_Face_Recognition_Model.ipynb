{
 "cells": [
  {
   "cell_type": "code",
   "execution_count": 22,
   "id": "408f137d",
   "metadata": {},
   "outputs": [
    {
     "name": "stdout",
     "output_type": "stream",
     "text": [
      "Requirement already satisfied: opencv-python in c:\\users\\domin\\anaconda3\\lib\\site-packages (4.7.0.72)\n",
      "Requirement already satisfied: numpy>=1.17.3 in c:\\users\\domin\\anaconda3\\lib\\site-packages (from opencv-python) (1.21.5)\n"
     ]
    }
   ],
   "source": [
    "! pip install opencv-python"
   ]
  },
  {
   "cell_type": "code",
   "execution_count": 23,
   "id": "15cb335b",
   "metadata": {},
   "outputs": [],
   "source": [
    "import cv2"
   ]
  },
  {
   "cell_type": "code",
   "execution_count": 24,
   "id": "f201e95a",
   "metadata": {},
   "outputs": [
    {
     "name": "stdout",
     "output_type": "stream",
     "text": [
      "Microsoft Windows [Version 10.0.22000.1455]\n",
      "(c) Microsoft Corporation. All rights reserved.\n",
      "\n",
      "C:\\Users\\domin>where python\n",
      "C:\\Users\\domin\\anaconda3\\python.exe\n",
      "C:\\Users\\domin\\AppData\\Local\\Microsoft\\WindowsApps\\python.exe\n",
      "\n",
      "C:\\Users\\domin>"
     ]
    }
   ],
   "source": [
    "%%cmd\n",
    "where python"
   ]
  },
  {
   "cell_type": "code",
   "execution_count": 25,
   "id": "3938a45c",
   "metadata": {},
   "outputs": [
    {
     "name": "stdout",
     "output_type": "stream",
     "text": [
      "Microsoft Windows [Version 10.0.22000.1455]\n",
      "(c) Microsoft Corporation. All rights reserved.\n",
      "\n",
      "C:\\Users\\domin>pip install cmake\n",
      "Requirement already satisfied: cmake in c:\\users\\domin\\anaconda3\\lib\\site-packages (3.25.2)\n",
      "\n",
      "C:\\Users\\domin>"
     ]
    }
   ],
   "source": [
    "%%cmd\n",
    "pip install cmake"
   ]
  },
  {
   "cell_type": "code",
   "execution_count": 26,
   "id": "bd231b88",
   "metadata": {},
   "outputs": [
    {
     "name": "stdout",
     "output_type": "stream",
     "text": [
      "Microsoft Windows [Version 10.0.22000.1455]\n",
      "(c) Microsoft Corporation. All rights reserved.\n",
      "\n",
      "C:\\Users\\domin>python --version\n",
      "Python 3.9.12\n",
      "\n",
      "C:\\Users\\domin>"
     ]
    }
   ],
   "source": [
    "%%cmd\n",
    "python --version\n"
   ]
  },
  {
   "cell_type": "code",
   "execution_count": 27,
   "id": "b216ba80",
   "metadata": {},
   "outputs": [
    {
     "name": "stdout",
     "output_type": "stream",
     "text": [
      "Microsoft Windows [Version 10.0.22000.1455]\n",
      "(c) Microsoft Corporation. All rights reserved.\n",
      "\n",
      "C:\\Users\\domin>pip install \"C:/Users/domin/Downloads/dlib-19.22.99-cp39-cp39-win_amd64.whl\"\n",
      "Processing c:\\users\\domin\\downloads\\dlib-19.22.99-cp39-cp39-win_amd64.whl\n",
      "dlib is already installed with the same version as the provided wheel. Use --force-reinstall to force an installation of the wheel.\n",
      "\n",
      "C:\\Users\\domin>"
     ]
    }
   ],
   "source": [
    "%%cmd\n",
    "pip install \"C:/Users/domin/Downloads/dlib-19.22.99-cp39-cp39-win_amd64.whl\""
   ]
  },
  {
   "cell_type": "code",
   "execution_count": 28,
   "id": "47b36d2b",
   "metadata": {},
   "outputs": [
    {
     "name": "stdout",
     "output_type": "stream",
     "text": [
      "Microsoft Windows [Version 10.0.22000.1455]\n",
      "(c) Microsoft Corporation. All rights reserved.\n",
      "\n",
      "C:\\Users\\domin>pip install face-recognition\n",
      "Requirement already satisfied: face-recognition in c:\\users\\domin\\anaconda3\\lib\\site-packages (1.3.0)\n",
      "Requirement already satisfied: Pillow in c:\\users\\domin\\anaconda3\\lib\\site-packages (from face-recognition) (9.0.1)\n",
      "Requirement already satisfied: Click>=6.0 in c:\\users\\domin\\anaconda3\\lib\\site-packages (from face-recognition) (8.0.4)\n",
      "Requirement already satisfied: dlib>=19.7 in c:\\users\\domin\\anaconda3\\lib\\site-packages (from face-recognition) (19.22.99)\n",
      "Requirement already satisfied: face-recognition-models>=0.3.0 in c:\\users\\domin\\anaconda3\\lib\\site-packages (from face-recognition) (0.3.0)\n",
      "Requirement already satisfied: numpy in c:\\users\\domin\\anaconda3\\lib\\site-packages (from face-recognition) (1.21.5)\n",
      "Requirement already satisfied: colorama in c:\\users\\domin\\anaconda3\\lib\\site-packages (from Click>=6.0->face-recognition) (0.4.4)\n",
      "\n",
      "C:\\Users\\domin>"
     ]
    }
   ],
   "source": [
    "%%cmd\n",
    "pip install face-recognition"
   ]
  },
  {
   "cell_type": "code",
   "execution_count": 29,
   "id": "0d405a2a",
   "metadata": {},
   "outputs": [],
   "source": [
    "import cv2\n",
    "import numpy as np\n",
    "\n",
    "# Read an image\n",
    "img = cv2.imread(\"C:/Users/domin/OneDrive/Desktop/Airbnb.jpg\")\n",
    "\n",
    "# Get the dimensions of the image\n",
    "height, width, _ = img.shape\n",
    "\n",
    "# Set the desired width of the window\n",
    "window_width = 800\n",
    "\n",
    "# Calculate the height of the window to maintain the aspect ratio\n",
    "aspect_ratio = width / height\n",
    "window_height = int(window_width / aspect_ratio)\n",
    "\n",
    "# Create a window with the same name as the file\n",
    "cv2.namedWindow('image', cv2.WINDOW_NORMAL)\n",
    "\n",
    "# Set the window size to fit the image\n",
    "cv2.resizeWindow('image', window_width, window_height)\n",
    "\n",
    "# Display the image\n",
    "cv2.imshow('image', img)\n",
    "\n",
    "# Wait for a key press and then close the window\n",
    "cv2.waitKey(0)\n",
    "cv2.destroyAllWindows()"
   ]
  },
  {
   "cell_type": "code",
   "execution_count": 10,
   "id": "c739a043",
   "metadata": {},
   "outputs": [
    {
     "name": "stdout",
     "output_type": "stream",
     "text": [
      "C:\\Users\\domin\\anaconda3\\lib\\site-packages\\cv2\\data\\haarcascade_frontalface_default.xml\n"
     ]
    }
   ],
   "source": [
    "import pathlib\n",
    "import cv2\n",
    "\n",
    "cascade_path = pathlib.Path(cv2.__file__).parent.absolute() / \"data/haarcascade_frontalface_default.xml\"\n",
    "print(cascade_path)\n",
    "\n",
    "clf = cv2.CascadeClassifier(str(cascade_path))\n",
    "\n",
    "camera = cv2.VideoCapture(0)\n",
    "\n",
    "while True:\n",
    "    _, frame = camera.read()\n",
    "    gray = cv2.cvtColor(frame, cv2.COLOR_BGR2GRAY)\n",
    "    faces = clf.detectMultiScale(\n",
    "        gray,\n",
    "        scaleFactor=1.1,\n",
    "        minNeighbors=5,\n",
    "        minSize=(30, 30),\n",
    "        flags=cv2.CASCADE_SCALE_IMAGE\n",
    "    )\n",
    "    for (x, y, width, height) in faces:\n",
    "        cv2.rectangle(frame, (x, y), (x+width, y+height), (255, 255, 0), 2)\n",
    "    \n",
    "    cv2.imshow(\"Faces\", frame)\n",
    "    if cv2.waitKey(1) == ord(\"q\"):\n",
    "        break\n",
    "\n",
    "camera.release()\n",
    "cv2.destroyAllWindows()"
   ]
  },
  {
   "cell_type": "code",
   "execution_count": 11,
   "id": "2a6f76a7",
   "metadata": {},
   "outputs": [
    {
     "name": "stdout",
     "output_type": "stream",
     "text": [
      "1\n"
     ]
    }
   ],
   "source": [
    "import cv2\n",
    "import numpy as np\n",
    "import face_recognition\n",
    "import smtplib\n",
    "import win32com.client as win32\n",
    "\n",
    "camera = cv2.VideoCapture(0)\n",
    "\n",
    "# Collect images of your face\n",
    "known_images = [\"C:/Users/domin/OneDrive/Desktop/Airbnb.jpg\"]\n",
    "known_encodings = []\n",
    "\n",
    "# Extract features from the images\n",
    "for image in known_images:\n",
    "    img = face_recognition.load_image_file(image)\n",
    "    encodings = face_recognition.face_encodings(img)\n",
    "    if encodings:\n",
    "        known_encodings.append(encodings[0])\n",
    "\n",
    "# Use the features to create a face recognition model\n",
    "face_rec_model = face_recognition.face_distance\n",
    "threshold = 0.6\n",
    "\n",
    "a = 0\n",
    "\n",
    "while True:\n",
    "    _, frame = camera.read()\n",
    "    rgb = cv2.cvtColor(frame, cv2.COLOR_BGR2RGB)\n",
    "    face_locations = face_recognition.face_locations(rgb)\n",
    "    face_encodings = face_recognition.face_encodings(rgb, face_locations)\n",
    "    for (top, right, bottom, left), face_encoding in zip(face_locations, face_encodings):\n",
    "        distance = face_rec_model(known_encodings, face_encoding)\n",
    "        if np.any(distance <= threshold):\n",
    "            # your face is detected and recognized\n",
    "            cv2.rectangle(frame, (left, top), (right, bottom), (0, 255, 0), 2)\n",
    "            a = 1\n",
    "    cv2.imshow(\"Faces\", frame)\n",
    "    if cv2.waitKey(1) == ord(\"q\"):\n",
    "        break\n",
    "\n",
    "camera.release()\n",
    "cv2.destroyAllWindows()\n",
    "\n",
    "print(a)\n",
    "\n",
    "if a == 1:\n",
    "    # Create an instance of the Outlook application\n",
    "    olApp = win32.Dispatch('Outlook.Application')\n",
    "    olNS = olApp.GetNameSpace('MAPI')\n",
    "\n",
    "    # Create a new mail item\n",
    "    mail = olApp.CreateItem(0)\n",
    "\n",
    "    # Set the email recipients, subject, and body\n",
    "    mail.To = 'dominic.brenninkmeijer@gmail.com'\n",
    "    mail.Subject = 'Succesfully Identified Subject'\n",
    "    mail.BodyFormat = 1\n",
    "    mail.Body = 'Dominic Brenninkmeijer has been recognized by the camera'\n",
    "\n",
    "    # Send the email\n",
    "    mail.Send()\n",
    "\n",
    "    # Close the Outlook application\n",
    "    olApp.Quit()\n",
    "\n",
    "\n",
    "\n",
    "\n",
    "\n",
    "\n",
    "\n",
    "\n",
    "\n",
    "\n",
    "\n",
    "\n",
    "\n",
    "\n",
    "\n",
    "\n",
    "\n",
    "\n",
    "\n",
    "\n",
    "    "
   ]
  },
  {
   "cell_type": "code",
   "execution_count": 21,
   "id": "7e1b1170",
   "metadata": {},
   "outputs": [],
   "source": [
    "import cv2\n",
    "import numpy as np\n",
    "import face_recognition\n",
    "import smtplib\n",
    "import win32com.client as win32\n",
    "\n",
    "camera = cv2.VideoCapture(0)\n",
    "\n",
    "# Collect images of your face\n",
    "known_images = [\"C:/Users/domin/OneDrive/Desktop/Airbnb.jpg\"]\n",
    "known_encodings = []\n",
    "\n",
    "# Extract features from the images\n",
    "for image in known_images:\n",
    "    img = face_recognition.load_image_file(image)\n",
    "    encodings = face_recognition.face_encodings(img)\n",
    "    if encodings:\n",
    "        known_encodings.append(encodings[0])\n",
    "\n",
    "# Use the features to create a face recognition model\n",
    "face_rec_model = face_recognition.face_distance\n",
    "threshold = 0.6\n",
    "\n",
    "a = 0\n",
    "\n",
    "while True:\n",
    "    _, frame = camera.read()\n",
    "    rgb = cv2.cvtColor(frame, cv2.COLOR_BGR2RGB)\n",
    "    face_locations = face_recognition.face_locations(rgb)\n",
    "    face_encodings = face_recognition.face_encodings(rgb, face_locations)\n",
    "    for (top, right, bottom, left), face_encoding in zip(face_locations, face_encodings):\n",
    "        distance = face_rec_model(known_encodings, face_encoding)\n",
    "        if np.any(distance <= threshold):\n",
    "            # your face is detected and recognized\n",
    "            cv2.rectangle(frame, (left, top), (right, bottom), (0, 255, 0), 2)\n",
    "            a = 1\n",
    "        else:\n",
    "            # your face is detected but not recognized\n",
    "            cv2.rectangle(frame, (left, top), (right, bottom), (0, 0, 255), 2)\n",
    "            a = 2\n",
    "    cv2.imshow(\"Faces\", frame)\n",
    "    if cv2.waitKey(1) == ord(\"q\"):\n",
    "        break\n",
    "\n",
    "camera.release()\n",
    "cv2.destroyAllWindows()\n",
    "\n",
    "if a == 1:\n",
    "    # Create an instance of the Outlook application\n",
    "    olApp = win32.Dispatch('Outlook.Application')\n",
    "    olNS = olApp.GetNameSpace('MAPI')\n",
    "\n",
    "    # Create a new mail item\n",
    "    mail = olApp.CreateItem(0)\n",
    "\n",
    "    # Set the email recipients, subject, and body\n",
    "    mail.To = 'dominic.brenninkmeijer@gmail.com'\n",
    "    mail.Subject = 'Succesfully Identified Subject'\n",
    "    mail.BodyFormat = 1\n",
    "    mail.Body = 'Dominic Brenninkmeijer has been recognized by the camera'\n",
    "\n",
    "    # Send the email\n",
    "    mail.Send()\n",
    "\n",
    "    # Close the Outlook application\n",
    "    olApp.Quit()\n",
    "    \n",
    "\n",
    "if a == 2:\n",
    "    # Create an instance of the Outlook application\n",
    "    olApp = win32.Dispatch('Outlook.Application')\n",
    "    olNS = olApp.GetNameSpace('MAPI')\n",
    "\n",
    "    # Create a new mail item\n",
    "    mail = olApp.CreateItem(0)\n",
    "\n",
    "    # Set the email recipients, subject, and body\n",
    "    mail.To = 'dominic.brenninkmeijer@gmail.com'\n",
    "    mail.Subject = 'Unidentified Subject'\n",
    "    mail.BodyFormat = 1\n",
    "    mail.Body = 'Intruder Alert'\n",
    "\n",
    "    # Send the email\n",
    "    mail.Send()\n",
    "\n",
    "    # Close the Outlook application\n",
    "    olApp.Quit()\n",
    "    \n",
    "    "
   ]
  },
  {
   "cell_type": "code",
   "execution_count": null,
   "id": "70be89a5",
   "metadata": {},
   "outputs": [],
   "source": []
  },
  {
   "cell_type": "code",
   "execution_count": null,
   "id": "2ca7a750",
   "metadata": {},
   "outputs": [],
   "source": []
  }
 ],
 "metadata": {
  "kernelspec": {
   "display_name": "Python 3 (ipykernel)",
   "language": "python",
   "name": "python3"
  },
  "language_info": {
   "codemirror_mode": {
    "name": "ipython",
    "version": 3
   },
   "file_extension": ".py",
   "mimetype": "text/x-python",
   "name": "python",
   "nbconvert_exporter": "python",
   "pygments_lexer": "ipython3",
   "version": "3.9.12"
  }
 },
 "nbformat": 4,
 "nbformat_minor": 5
}
